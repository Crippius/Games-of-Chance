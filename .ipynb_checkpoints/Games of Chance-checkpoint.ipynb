{
 "cells": [
  {
   "cell_type": "markdown",
   "metadata": {},
   "source": [
    "# Games of  Chance\n",
    "### A Python coding project\n",
    "\n",
    "During the 2021 summer season, I developed a simulator of different games usually played in casinos; in this notebook, I will analyze how these types of games always favor the house instead of the player.\n",
    "\n",
    "This activity took inspiration from [this](https://www.codecademy.com/practice/projects/games-of-chance) Codecademy project, after finishing it and seeing its potential, I wanted to develop it furthermore and these are the result.\n",
    "\n",
    "Note that this notebook will focus on the probability/gambling side of these games, if you want to check how these games were made, in this repository there is a folder named 'games' in which every single game source code can be viewed."
   ]
  },
  {
   "cell_type": "markdown",
   "metadata": {},
   "source": [
    "Let's start by importing every library needed, from functions for plotting graphs, statistical queries, and quality of life changes. "
   ]
  },
  {
   "cell_type": "code",
   "execution_count": 1,
   "metadata": {},
   "outputs": [],
   "source": [
    "from matplotlib import pyplot as plt\n",
    "import pandas as pd\n",
    "import seaborn as sns\n",
    "import numpy as np\n",
    "import scipy.stats\n",
    "import random\n",
    "from functools import partial\n",
    "from adjustText import adjust_text\n",
    "\n",
    "from problems_check import problems_check\n",
    "from games_of_chance import Casino"
   ]
  },
  {
   "cell_type": "markdown",
   "metadata": {},
   "source": [
    "Let's create a hypothetical scenario in which a person called Bob, hoping to cash out, goes to this casino and plays every single game it offers one time only:"
   ]
  },
  {
   "cell_type": "code",
   "execution_count": 2,
   "metadata": {},
   "outputs": [
    {
     "name": "stdout",
     "output_type": "stream",
     "text": [
      "Welcome to the 'Games of Chance' casino! you have 100 chips you can bet. Good Luck!\n"
     ]
    }
   ],
   "source": [
    "Bob = Casino()"
   ]
  },
  {
   "cell_type": "code",
   "execution_count": 3,
   "metadata": {},
   "outputs": [
    {
     "name": "stdout",
     "output_type": "stream",
     "text": [
      "-> Playing Heads or Tails...\n",
      "You've bet on: Heads\n",
      "----------------------\n",
      "The result is: Heads\n",
      "You win!\n",
      "Do you want to double or nothing?\n",
      "No\n",
      "Your balance is: 120\n"
     ]
    }
   ],
   "source": [
    "random.seed(1)\n",
    "Bob.heads_or_tails(20, prediction=\"Heads\", autoplay=True)"
   ]
  },
  {
   "cell_type": "code",
   "execution_count": 4,
   "metadata": {
    "scrolled": true
   },
   "outputs": [
    {
     "name": "stdout",
     "output_type": "stream",
     "text": [
      "-> Playing Slot Machines...\n",
      "------------------------\n",
      "PEAR     7        ORANGE\n",
      "------------------------\n",
      "KIWI     PEAR     7\n",
      "------------------------\n",
      "PEAR     APPLE    ORANGE\n",
      "------------------------\n",
      "- You lost\n",
      "Your balance is: 100\n"
     ]
    }
   ],
   "source": [
    "random.seed(1)\n",
    "Bob.slot_machine(20)"
   ]
  },
  {
   "cell_type": "code",
   "execution_count": 5,
   "metadata": {},
   "outputs": [
    {
     "name": "stdout",
     "output_type": "stream",
     "text": [
      "-> Playing Blackjack...\n",
      "Your cards: 9 Q (Total = 19)\n",
      "Banker's card: Q\n",
      "You picked 8 (Total = 27)\n",
      "- You lost\n",
      "Your balance is: 80\n"
     ]
    }
   ],
   "source": [
    "random.seed(1)\n",
    "Bob.blackjack(20, autoplay=True)"
   ]
  },
  {
   "cell_type": "code",
   "execution_count": 6,
   "metadata": {},
   "outputs": [
    {
     "name": "stdout",
     "output_type": "stream",
     "text": [
      "-> Playing Roulette...\n",
      "You've bet on:\n",
      "Odd\n",
      "The number was: 8 (Even, Manque, Black)\n",
      "- You lost\n",
      "Your balance is: 60\n"
     ]
    }
   ],
   "source": [
    "random.seed(1)\n",
    "Bob.roulette(20, odd_or_even=\"Odd\", manque_or_passe=False, red_black_green=False, numbers=False)"
   ]
  },
  {
   "cell_type": "code",
   "execution_count": 7,
   "metadata": {},
   "outputs": [
    {
     "name": "stdout",
     "output_type": "stream",
     "text": [
      "-> Playing Baccarat...\n",
      "Player's cards: 9 Q (Total = 9)\n",
      "Banker's cards: Q 5 (Total = 5)\n",
      "Natural! The player and banker stand\n",
      "- Player wins! -\n",
      "Your balance is: 79.0\n"
     ]
    }
   ],
   "source": [
    "random.seed(1)\n",
    "Bob.baccarat(20, player_or_better=\"Player\")"
   ]
  },
  {
   "cell_type": "code",
   "execution_count": 8,
   "metadata": {
    "scrolled": false
   },
   "outputs": [
    {
     "name": "stdout",
     "output_type": "stream",
     "text": [
      "Thanks for coming to the 'Games of Chance' casino! Here's your record\n",
      "For Heads or Tails: you won 1 games and lost 0, (1 percent of games won)\n",
      "For Slot Machine: you won 0 games and lost 1, (0 percent of games won)\n",
      "For Blackjack: you won 0 games and lost 1, (0 percent of games won)\n",
      "For Roulette: you won 0 games and lost 1, (0 percent of games won)\n",
      "For Baccarat: you won 1 games and lost 0, (1 percent of games won)\n",
      "---------------------\n",
      "You lost 21 chips\n"
     ]
    }
   ],
   "source": [
    "Bob.exit_the_casino()"
   ]
  },
  {
   "cell_type": "markdown",
   "metadata": {},
   "source": [
    "In the end Bob didn't get particularly lucky and exited the casino with 20 dollars less than he started. Was this result expected or not? Let's simulate these events 500 times and let's see."
   ]
  },
  {
   "cell_type": "code",
   "execution_count": 9,
   "metadata": {
    "scrolled": true
   },
   "outputs": [],
   "source": [
    "%%capture \n",
    "# Doesn't show the print statements inside out of the loop\n",
    "\n",
    "total_money = []\n",
    "\n",
    "for i in range(500):\n",
    "    random.seed(i)\n",
    "    Bob = Casino()\n",
    "    Bob.heads_or_tails(20, prediction=\"Heads\", autoplay=True)\n",
    "    Bob.slot_machine(20)\n",
    "    Bob.blackjack(20, autoplay=True)\n",
    "    Bob.roulette(20, odd_or_even=\"Odd\", manque_or_passe=False, red_black_green=False, numbers=False)\n",
    "    Bob.baccarat(20, player_or_better=\"Player\")\n",
    "    total_money.append(Bob.balance())"
   ]
  },
  {
   "cell_type": "code",
   "execution_count": 10,
   "metadata": {},
   "outputs": [
    {
     "data": {
      "image/png": "[encoded data removed]",
      "text/plain": [
       "<Figure size 432x288 with 1 Axes>"
      ]
     },
     "metadata": {
      "needs_background": "light"
     },
     "output_type": "display_data"
    },
    {
     "name": "stdout",
     "output_type": "stream",
     "text": [
      "A person entering the casino and playing every game has a chance to go positive equal to 44%\n",
      "The average balance after playing is 90.802\n",
      "The median balance after playing is 89.0\n",
      "The most common balance after playing is 80.0\n",
      "The skewness of the curve is 0.04 (right-skewed)\n",
      "In the 1000 loops the total money lost is -4599.0\n",
      "A person lost every chip while playing these games 3% of the times\n",
      "The best payout in these 500 simulations was equal to 205.0\n"
     ]
    }
   ],
   "source": [
    "win_percentage = (len([i for i in total_money if i>100])/len(total_money))*100\n",
    "mean = np.mean(total_money)\n",
    "median = np.median(total_money)\n",
    "mode = scipy.stats.mode(total_money)[0][0]\n",
    "skewness = scipy.stats.skew(total_money)\n",
    "total_money_lost = sum([i-100 for i in total_money])\n",
    "min_result_times = total_money.count(0)\n",
    "max_result = max(total_money)\n",
    "\n",
    "sns.histplot(data=total_money, bins=20)\n",
    "\n",
    "mode_plt = plt.axvline(mode, color='yellow', linestyle=\"dashed\")\n",
    "median_plt = plt.axvline(median, color='green', linestyle=\"dashed\")\n",
    "mean_plt = plt.axvline(mean, color='red', linestyle=\"dashed\")\n",
    "\n",
    "plt.legend([mean_plt, median_plt, mode_plt], [\"mean\", \"median\", \"mode\"])\n",
    "plt.show()\n",
    "\n",
    "print(\"A person entering the casino and playing every game has a chance to go positive equal to \" + str(round(win_percentage)) + \"%\")\n",
    "print(\"The average balance after playing is \" + str(mean))\n",
    "print(\"The median balance after playing is \" + str(median))\n",
    "print(\"The most common balance after playing is \" + str(mode))\n",
    "print(\"The skewness of the curve is \" + str(round(skewness, 2)) + \" (right-skewed)\")\n",
    "print(\"In the 1000 loops the total money lost is \" + str(total_money_lost))\n",
    "print(\"A person lost every chip while playing these games \" + str(round((min_result_times/500)*100)) + \"% of the times\")\n",
    "print(\"The best payout in these 500 simulations was equal to \" + str(max_result))\n"
   ]
  },
  {
   "cell_type": "markdown",
   "metadata": {},
   "source": [
    "Since we stored the seed of every run of the loop we can see how the run of the lucky player went."
   ]
  },
  {
   "cell_type": "code",
   "execution_count": 11,
   "metadata": {},
   "outputs": [
    {
     "name": "stdout",
     "output_type": "stream",
     "text": [
      "Welcome to the 'Games of Chance' casino! you have 100 chips you can bet. Good Luck!\n",
      "-> Playing Heads or Tails...\n",
      "You've bet on: Heads\n",
      "----------------------\n",
      "The result is: Heads\n",
      "You win!\n",
      "Do you want to double or nothing?\n",
      "No\n",
      "Your balance is: 120\n",
      "-> Playing Slot Machines...\n",
      "------------------------\n",
      "LEMON    7        LEMON\n",
      "------------------------\n",
      "7        PEAR     7\n",
      "------------------------\n",
      "LEMON    PEACH    7\n",
      "------------------------\n",
      "DOUBLE LEMON!\n",
      "DOUBLE 7!!\n",
      "- You won!\n",
      "Your balance is: 165.0\n",
      "-> Playing Blackjack...\n",
      "Your cards: Q 10 (Total = 20)\n",
      "Banker's card: J\n",
      "Banker picked 5 (Total = 15)\n",
      "Banker picked J (Total = 25)\n",
      "- You won!\n",
      "Your balance is: 185.0\n",
      "-> Playing Roulette...\n",
      "You've bet on:\n",
      "Odd\n",
      "The number was: 29 (Odd, Passe, Black)\n",
      "- You won!\n",
      "Your balance is: 205.0\n",
      "-> Playing Baccarat...\n",
      "Player's cards: 5 J (Total = 5)\n",
      "Banker's cards: Q K (Total = 0)\n",
      "Player draws: 7 (Total = 2)\n",
      "Banker draws: 2 (Total = 2)\n",
      "- It's a tie ! -\n",
      "Your balance is: 205.0\n",
      "Thanks for coming to the 'Games of Chance' casino! Here's your record\n",
      "For Heads or Tails: you won 1 games and lost 0, (1 percent of games won)\n",
      "For Slot Machine: you won 1 games and lost 0, (1 percent of games won)\n",
      "For Blackjack: you won 1 games and lost 0, (1 percent of games won)\n",
      "For Roulette: you won 1 games and lost 0, (1 percent of games won)\n",
      "For Baccarat: you won 0 games, tied 1 and lost 0, (0 percent of games won)\n",
      "---------------------\n",
      "You gained 105 chips\n"
     ]
    }
   ],
   "source": [
    "random.seed(total_money.index(max_result))\n",
    "Bob = Casino()\n",
    "Bob.heads_or_tails(20, prediction=\"Heads\", autoplay=True)\n",
    "Bob.slot_machine(20)\n",
    "Bob.blackjack(20, autoplay=True)\n",
    "Bob.roulette(20, odd_or_even=\"Odd\")\n",
    "Bob.baccarat(20, player_or_better=\"Player\")\n",
    "\n",
    "Bob.exit_the_casino()"
   ]
  },
  {
   "cell_type": "markdown",
   "metadata": {},
   "source": [
    "A successful double or nothing and a blackjack helped the lucky player go through the casino without losing a single time."
   ]
  },
  {
   "cell_type": "markdown",
   "metadata": {},
   "source": [
    "We looked at how a typical night at the casino playing every game will typically look, but the sample size (500) could be  higher, we will be focusing on that later. Now let's look at the statistics of winning for every singular game."
   ]
  },
  {
   "cell_type": "code",
   "execution_count": 12,
   "metadata": {},
   "outputs": [],
   "source": [
    "%%capture\n",
    "                # Partial is used to store the functions and their parameters before being called in the loops\n",
    "games_to_play = [[partial(Bob.heads_or_tails, betted_money=20, prediction=\"Heads\", autoplay=True), \"heads or tails\"], \n",
    "                 [partial(Bob.slot_machine, betted_money=20), \"slot machines\"],\n",
    "                 [partial(Bob.blackjack, betted_money=20, autoplay=True), \"blackjack\"],\n",
    "                 [partial(Bob.roulette, betted_money=20, red_black_green=\"Red\"), \"roulettes betting on red/black\"],\n",
    "                 [partial(Bob.roulette, betted_money=20, numbers=[1, 2, 3, 4, 5, 6]), \"roulettes betting on numbers\"],\n",
    "                 [partial(Bob.baccarat, betted_money=20, player_or_better=\"Player\"), \"baccarat as a player\"],\n",
    "                 [partial(Bob.baccarat, betted_money=20, player_or_better=\"Better\", x_win=\"Banker\"), \"baccarat betting on a banker's win\"]]\n",
    "\n",
    "all_total_money = []\n",
    "for game in games_to_play: # Doing it every time\n",
    "    total_money = []\n",
    "    for i in range(1000, 5000, 5): # Looping 1000 times (but with different seeds as last time)\n",
    "        Bob.set_money(100)\n",
    "        for j in range(5):# Playing 5 times\n",
    "            random.seed(i+j)\n",
    "            game[0]()\n",
    "        total_money.append(Bob.balance())\n",
    "    all_total_money.append(total_money)\n",
    "\n",
    "Bob.exit_the_casino()"
   ]
  },
  {
   "cell_type": "code",
   "execution_count": 13,
   "metadata": {
    "scrolled": false
   },
   "outputs": [
    {
     "data": {
      "image/png": "[encoded data removed]",
      "text/plain": [
       "<Figure size 432x288 with 1 Axes>"
      ]
     },
     "metadata": {
      "needs_background": "light"
     },
     "output_type": "display_data"
    },
    {
     "name": "stdout",
     "output_type": "stream",
     "text": [
      "A person entering the casino and playing heads or tails every game has a chance to go positive equal to 42%\n",
      "The average balance after playing is 93.575\n",
      "The median balance after playing is 80.0\n",
      "The most common balance after playing is 80\n",
      "The skewness of the curve is 0.22 (right-skewed)\n",
      "In the 1000 loops the total money lost is -5140\n",
      "A person lost every chip while playing these games 5% of the times\n",
      "The best payout in these 1000 simulations was equal to 240\n"
     ]
    },
    {
     "data": {
      "image/png": "[encoded data removed]",
      "text/plain": [
       "<Figure size 432x288 with 1 Axes>"
      ]
     },
     "metadata": {
      "needs_background": "light"
     },
     "output_type": "display_data"
    },
    {
     "name": "stdout",
     "output_type": "stream",
     "text": [
      "A person entering the casino and playing slot machines every game has a chance to go positive equal to 34%\n",
      "The average balance after playing is 87.1125\n",
      "The median balance after playing is 80.0\n",
      "The most common balance after playing is 50.0\n",
      "The skewness of the curve is 0.58 (right-skewed)\n",
      "In the 1000 loops the total money lost is -10310.0\n",
      "A person lost every chip while playing these games 3% of the times\n",
      "The best payout in these 1000 simulations was equal to 260.0\n"
     ]
    },
    {
     "data": {
      "image/png": "[encoded data removed]",
      "text/plain": [
       "<Figure size 432x288 with 1 Axes>"
      ]
     },
     "metadata": {
      "needs_background": "light"
     },
     "output_type": "display_data"
    },
    {
     "name": "stdout",
     "output_type": "stream",
     "text": [
      "A person entering the casino and playing blackjack every game has a chance to go positive equal to 23%\n",
      "The average balance after playing is 74.2125\n",
      "The median balance after playing is 80.0\n",
      "The most common balance after playing is 40.0\n",
      "The skewness of the curve is 0.27 (right-skewed)\n",
      "In the 1000 loops the total money lost is -20630.0\n",
      "A person lost every chip while playing these games 7% of the times\n",
      "The best payout in these 1000 simulations was equal to 230.0\n"
     ]
    },
    {
     "data": {
      "image/png": "[encoded data removed]",
      "text/plain": [
       "<Figure size 432x288 with 1 Axes>"
      ]
     },
     "metadata": {
      "needs_background": "light"
     },
     "output_type": "display_data"
    },
    {
     "name": "stdout",
     "output_type": "stream",
     "text": [
      "A person entering the casino and playing roulettes betting on red/black every game has a chance to go positive equal to 44%\n",
      "The average balance after playing is 94.3\n",
      "The median balance after playing is 80.0\n",
      "The most common balance after playing is 80\n",
      "The skewness of the curve is 0.03 (no skew)\n",
      "In the 1000 loops the total money lost is -4560\n",
      "A person lost every chip while playing these games 3% of the times\n",
      "The best payout in these 1000 simulations was equal to 200\n"
     ]
    },
    {
     "data": {
      "image/png": "[encoded data removed]",
      "text/plain": [
       "<Figure size 432x288 with 1 Axes>"
      ]
     },
     "metadata": {
      "needs_background": "light"
     },
     "output_type": "display_data"
    },
    {
     "name": "stdout",
     "output_type": "stream",
     "text": [
      "A person entering the casino and playing roulettes betting on numbers every game has a chance to go positive equal to 20%\n",
      "The average balance after playing is 83.75\n",
      "The median balance after playing is 100.0\n",
      "The most common balance after playing is 100\n",
      "The skewness of the curve is 0.73 (right-skewed)\n",
      "In the 1000 loops the total money lost is -13000\n",
      "A person lost every chip while playing these games 32% of the times\n",
      "The best payout in these 1000 simulations was equal to 400\n"
     ]
    },
    {
     "data": {
      "image/png": "[encoded data removed]",
      "text/plain": [
       "<Figure size 432x288 with 1 Axes>"
      ]
     },
     "metadata": {
      "needs_background": "light"
     },
     "output_type": "display_data"
    },
    {
     "name": "stdout",
     "output_type": "stream",
     "text": [
      "A person entering the casino and playing baccarat as a player every game has a chance to go positive equal to 46%\n",
      "The average balance after playing is 98.38375\n",
      "The median balance after playing is 98.0\n",
      "The most common balance after playing is 117.0\n",
      "The skewness of the curve is -0.1 (left-skewed)\n",
      "In the 1000 loops the total money lost is -1293.0\n",
      "A person lost every chip while playing these games 2% of the times\n",
      "The best payout in these 1000 simulations was equal to 195.0\n"
     ]
    },
    {
     "data": {
      "image/png": "[encoded data removed]",
      "text/plain": [
       "<Figure size 432x288 with 1 Axes>"
      ]
     },
     "metadata": {
      "needs_background": "light"
     },
     "output_type": "display_data"
    },
    {
     "name": "stdout",
     "output_type": "stream",
     "text": [
      "A person entering the casino and playing baccarat betting on a banker's win every game has a chance to go positive equal to 41%\n",
      "The average balance after playing is 88.0425\n",
      "The median balance after playing is 78.0\n",
      "The most common balance after playing is 78.0\n",
      "The skewness of the curve is 0.18 (right-skewed)\n",
      "In the 1000 loops the total money lost is -9566.0\n",
      "A person lost every chip while playing these games 4% of the times\n",
      "The best payout in these 1000 simulations was equal to 195.0\n"
     ]
    }
   ],
   "source": [
    "total_results = []\n",
    "for i in range(len(games_to_play)):\n",
    "    total_money = all_total_money[i]\n",
    "    \n",
    "    win_percentage = (len([j for j in total_money if j>100])/len(total_money))*100\n",
    "    mean = np.mean(total_money)\n",
    "    median = np.median(total_money)\n",
    "    mode = scipy.stats.mode(total_money)[0][0]\n",
    "    skewness = scipy.stats.skew(total_money)\n",
    "    skewness_type = \"\"\n",
    "    if skewness < -0.1:\n",
    "        skewness_type = \"left-skewed\"\n",
    "    elif skewness > 0.1:\n",
    "        skewness_type = \"right-skewed\"\n",
    "    else:\n",
    "        skewness_type = \"no skew\"\n",
    "    total_money_lost = sum([i-100 for i in total_money])\n",
    "    min_result_times = total_money.count(0)\n",
    "    max_result = max(total_money)\n",
    "\n",
    "    total_results.append([games_to_play[i][1], win_percentage, mean, median, mode, skewness, total_money_lost, min_result_times, max_result])\n",
    "\n",
    "    sns.histplot(data=total_money, bins=20)\n",
    "\n",
    "    mode_plt = plt.axvline(mode, color='yellow', linestyle=\"dashed\")\n",
    "    median_plt = plt.axvline(median, color='green', linestyle=\"dashed\")\n",
    "    mean_plt = plt.axvline(mean, color='red', linestyle=\"dashed\")\n",
    "    plt.title(games_to_play[i][1].title())\n",
    "    plt.legend([mean_plt, median_plt, mode_plt], [\"mean\", \"median\", \"mode\"])\n",
    "    plt.show()\n",
    "\n",
    "    print(\"A person entering the casino and playing \" + games_to_play[i][1] + \" every game has a chance to go positive equal to \" + str(round(win_percentage)) + \"%\")\n",
    "    print(\"The average balance after playing is \" + str(mean))\n",
    "    print(\"The median balance after playing is \" + str(median))\n",
    "    print(\"The most common balance after playing is \" + str(mode))\n",
    "    print(\"The skewness of the curve is \" + str(round(skewness, 2)) + \" (\" + skewness_type + \")\")\n",
    "    print(\"In the 1000 loops the total money lost is \" + str(total_money_lost))\n",
    "    print(\"A person lost every chip while playing these games \" + str(round((min_result_times/1000)*100)) + \"% of the times\")\n",
    "    print(\"The best payout in these 1000 simulations was equal to \" + str(max_result))"
   ]
  },
  {
   "cell_type": "markdown",
   "metadata": {},
   "source": [
    "After seeing a statistical analysis of every casino game, let's see the broader, more general results.\n",
    "Let's start by creating a dataset."
   ]
  },
  {
   "cell_type": "code",
   "execution_count": 14,
   "metadata": {},
   "outputs": [
    {
     "name": "stdout",
     "output_type": "stream",
     "text": [
      "                                 Name  Win percentage      Mean  Median  \\\n",
      "0                      heads or tails          41.875  93.57500    80.0   \n",
      "1                       slot machines          34.250  87.11250    80.0   \n",
      "2                           blackjack          22.875  74.21250    80.0   \n",
      "3      roulettes betting on red/black          44.500  94.30000    80.0   \n",
      "4        roulettes betting on numbers          20.125  83.75000   100.0   \n",
      "5                baccarat as a player          45.500  98.38375    98.0   \n",
      "6  baccarat betting on a banker's win          40.750  88.04250    78.0   \n",
      "\n",
      "    Mode  Skewness  Total money lost  Number of bankrupts  Best result  \n",
      "0   80.0  0.215711           -5140.0                   48        240.0  \n",
      "1   50.0  0.577450          -10310.0                   27        260.0  \n",
      "2   40.0  0.267348          -20630.0                   69        230.0  \n",
      "3   80.0  0.026648           -4560.0                   33        200.0  \n",
      "4  100.0  0.734338          -13000.0                  319        400.0  \n",
      "5  117.0 -0.103737           -1293.0                   22        195.0  \n",
      "6   78.0  0.180447           -9566.0                   37        195.0  \n",
      "----------------------------------\n",
      "Win percentage           35.696429\n",
      "Mean                     88.482321\n",
      "Median                   85.142857\n",
      "Mode                     77.857143\n",
      "Skewness                  0.271172\n",
      "Total money lost      -9214.142857\n",
      "Number of bankrupts      79.285714\n",
      "Best result             245.714286\n",
      "dtype: float64\n"
     ]
    }
   ],
   "source": [
    "games_data = pd.DataFrame(total_results, columns=[\"Name\", \"Win percentage\", \"Mean\", \"Median\", \n",
    "                                                  \"Mode\", \"Skewness\", \"Total money lost\", \"Number of bankrupts\", \"Best result\"])\n",
    "\n",
    "print(games_data)\n",
    "print(\"----------------------------------\")\n",
    "print(games_data.mean())"
   ]
  },
  {
   "cell_type": "markdown",
   "metadata": {},
   "source": [
    "At the \"Games of Chance\" casino, on average the player/better wins a little more than a third of the time, he usually loses about 1/10 of the original amount (much more if we glance at the median); all games but the fifth one are generally right-skewed towards lesser values, as it is shown in the total money lost column after playing 1000 times; About 1/8th of the times the player loses all its money playing five times a certain game. "
   ]
  },
  {
   "cell_type": "markdown",
   "metadata": {},
   "source": [
    "A supplementary inquiry I wanted to test with these functions was how long could a player last before going eventually bankrupt?\n",
    "\n",
    "I'll make the number of initial chips higher (from 100 to 200) and additionally make 30 runs per game to find their average to avoid early losers."
   ]
  },
  {
   "cell_type": "code",
   "execution_count": 15,
   "metadata": {},
   "outputs": [],
   "source": [
    "%%capture\n",
    "random.seed(123456)\n",
    "\n",
    "all_total_money_per_gen = [] # Will contain the average run of every game\n",
    "for game in games_to_play:\n",
    "    \n",
    "    Bob = Casino(200)\n",
    "    total_money_per_gen = [] # Will contain all the runs for a single game\n",
    "    for i in range(30):\n",
    "        \n",
    "        total_money = [] # Will contain a single run\n",
    "        Bob.set_money(200)\n",
    "        \n",
    "        while Bob.balance() >= 20 and len(total_money) <= 500: # While not bankrupt\n",
    "            game[0]()\n",
    "            total_money.append(Bob.balance())\n",
    "            \n",
    "        if len(total_money) < 500: # If the run goes bankrupt before reaching 500 tries fill the remaining with 0s\n",
    "            remainder = 500-len(total_money)\n",
    "            for i in range(0, remainder):\n",
    "                total_money.append(0)\n",
    "        total_money_per_gen.append(total_money)\n",
    "    \n",
    "    \n",
    "    avg_total_money_per_gen = [] # Finding average of the 30 runs\n",
    "    for z in range(500):\n",
    "        mean = np.mean([i[z] for i in total_money_per_gen])\n",
    "        avg_total_money_per_gen.append(round(mean, 2))\n",
    "\n",
    "    all_total_money_per_gen.append(avg_total_money_per_gen)"
   ]
  },
  {
   "cell_type": "code",
   "execution_count": 16,
   "metadata": {},
   "outputs": [
    {
     "data": {
      "image/png": "[encoded data removed]",
      "text/plain": [
       "<Figure size 1080x540 with 1 Axes>"
      ]
     },
     "metadata": {
      "needs_background": "light"
     },
     "output_type": "display_data"
    }
   ],
   "source": [
    "texts = []\n",
    "for i in range(len(all_total_money_per_gen)):\n",
    "    if 0 in all_total_money_per_gen[i]:\n",
    "        x = all_total_money_per_gen[i].index(0)\n",
    "        y = 0\n",
    "    else:\n",
    "        x = 500\n",
    "        y = all_total_money_per_gen[i][-1]\n",
    "    \n",
    "    texts.append(plt.text(x, y, str(x)+\" game\",  bbox=dict(boxstyle=\"square\", facecolor=\"None\")))\n",
    "    sns.lineplot(data=all_total_money_per_gen[i])\n",
    "\n",
    "adjust_text(texts)\n",
    "plt.gcf().set_size_inches(15, 7.5)\n",
    "plt.legend([games_to_play[i][1] for i in range(len(games_to_play))])\n",
    "plt.show()"
   ]
  },
  {
   "cell_type": "markdown",
   "metadata": {},
   "source": [
    "Blackjack was the first game the player went bankrupt in less than 60 games played, shortly after the slot machines and baccarat brought the chip count to 0, the greed in doubling or nothing in heads or tails caused the player's downfall; only the roulette bets didn't make the player go bankrupt even tho slowly but surely in the near future are going to ruin the player's balance."
   ]
  },
  {
   "cell_type": "markdown",
   "metadata": {},
   "source": [
    "I think that after the last query I'll end this stat report about gambling and chances.\n",
    "\n",
    "In conclusion we can easily extrapolate that gambling in these games will always, ALWAYS, favor the casino and lead to ther inevitable bankrupcy of the player.\n",
    "\n",
    "Don't ever enter in a gambling addiction and happy coding!"
   ]
  },
  {
   "cell_type": "code",
   "execution_count": null,
   "metadata": {},
   "outputs": [],
   "source": []
  }
 ],
 "metadata": {
  "interpreter": {
   "hash": "0163dbdb18d2d091ddfd40aa5ed5abe536d412dfc151b8e2bb8114deb55724b9"
  },
  "kernelspec": {
   "display_name": "Python 3",
   "language": "python",
   "name": "python3"
  },
  "language_info": {
   "codemirror_mode": {
    "name": "ipython",
    "version": 3
   },
   "file_extension": ".py",
   "mimetype": "text/x-python",
   "name": "python",
   "nbconvert_exporter": "python",
   "pygments_lexer": "ipython3",
   "version": "3.8.5"
  }
 },
 "nbformat": 4,
 "nbformat_minor": 4
}
