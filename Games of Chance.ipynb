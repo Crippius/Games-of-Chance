{
 "cells": [
  {
   "cell_type": "markdown",
   "source": [
    "# Games of  Chance\n",
    "### A Python coding project\n",
    "\n",
    "During the 2021 summer season, I developed a simulator of different games usually played in casinos; in this notebook, I will analyze how these types of games always favor the house instead of the player.\n",
    "\n",
    "This activity took inspiration from [this](https://www.codecademy.com/practice/projects/games-of-chance) Codecademy project, after finishing it and seeing its potential, I wanted to develop it furthermore and these are the result.\n",
    "\n",
    "Note that this notebook will focus on the probability/gambling side of these games, if you want to check how these games were made, in this repository there is a folder named 'games' in which every single game source code can be viewed."
   ],
   "metadata": {}
  },
  {
   "cell_type": "markdown",
   "source": [
    "Let's start by importing every library needed, from functions for plotting graphs, statistical queries, and quality of life changes. "
   ],
   "metadata": {}
  },
  {
   "cell_type": "code",
   "execution_count": 104,
   "source": [
    "from matplotlib import pyplot as plt\r\n",
    "import pandas as pd\r\n",
    "import seaborn as sns\r\n",
    "import numpy as np\r\n",
    "import scipy.stats\r\n",
    "import random\r\n",
    "import time\r\n",
    "from functools import partial\r\n",
    "from adjustText import adjust_text\r\n",
    "\r\n",
    "\r\n",
    "from games_of_chance import Casino"
   ],
   "outputs": [],
   "metadata": {}
  },
  {
   "cell_type": "markdown",
   "source": [
    "Let's create a hypothetical scenario in which a person called Bob, hoping to cash out, goes to this casino and plays every single game it offers one time only:"
   ],
   "metadata": {}
  },
  {
   "cell_type": "code",
   "execution_count": 105,
   "source": [
    "Bob = Casino()"
   ],
   "outputs": [
    {
     "output_type": "stream",
     "name": "stdout",
     "text": [
      "Welcome to the 'Games of Chance' casino! you have 100 chips you can bet. Good Luck!\n"
     ]
    }
   ],
   "metadata": {}
  },
  {
   "cell_type": "code",
   "execution_count": 106,
   "source": [
    "random.seed(1)\r\n",
    "Bob.heads_or_tails(20, prediction=\"Heads\", autoplay=True)"
   ],
   "outputs": [
    {
     "output_type": "stream",
     "name": "stdout",
     "text": [
      "-> Playing Heads or Tails...\n",
      "You've bet on: Heads\n",
      "----------------------\n",
      "The result is: Heads\n",
      "You win!\n",
      "Do you want to double or nothing?\n",
      "No\n",
      "Your balance is: 120\n"
     ]
    }
   ],
   "metadata": {}
  },
  {
   "cell_type": "code",
   "execution_count": 107,
   "source": [
    "random.seed(1)\r\n",
    "Bob.slot_machine(20)"
   ],
   "outputs": [
    {
     "output_type": "stream",
     "name": "stdout",
     "text": [
      "-> Playing Slot Machines...\n",
      "------------------------\n",
      "PEAR     7        ORANGE\n",
      "------------------------\n",
      "KIWI     PEAR     7\n",
      "------------------------\n",
      "PEAR     APPLE    ORANGE\n",
      "------------------------\n",
      "- You lost\n",
      "Your balance is: 100\n"
     ]
    }
   ],
   "metadata": {
    "scrolled": true
   }
  },
  {
   "cell_type": "code",
   "execution_count": 108,
   "source": [
    "random.seed(1)\r\n",
    "Bob.blackjack(20, autoplay=True)"
   ],
   "outputs": [
    {
     "output_type": "stream",
     "name": "stdout",
     "text": [
      "-> Playing Blackjack...\n",
      "Your cards: 9 Q (Total = 19)\n",
      "Banker's card: Q\n",
      "You picked 8 (Total = 27)\n",
      "- You lost\n",
      "Your balance is: 80\n"
     ]
    }
   ],
   "metadata": {}
  },
  {
   "cell_type": "code",
   "execution_count": 109,
   "source": [
    "random.seed(1)\r\n",
    "Bob.roulette(20, odd_or_even=\"Odd\", manque_or_passe=False, red_black_green=False, numbers=False)"
   ],
   "outputs": [
    {
     "output_type": "stream",
     "name": "stdout",
     "text": [
      "-> Playing Roulette...\n",
      "You've bet on:\n",
      "Odd\n",
      "The number was: 8 (Even, Manque, Black)\n",
      "- You lost\n",
      "Your balance is: 60\n"
     ]
    }
   ],
   "metadata": {}
  },
  {
   "cell_type": "code",
   "execution_count": 110,
   "source": [
    "random.seed(1)\r\n",
    "Bob.baccarat(20, player_or_better=\"Player\")"
   ],
   "outputs": [
    {
     "output_type": "stream",
     "name": "stdout",
     "text": [
      "-> Playing Baccarat...\n",
      "Player's cards: 9 Q (Total = 9)\n",
      "Banker's cards: Q 5 (Total = 5)\n",
      "Natural! The player and banker stand\n",
      "- Player wins! -\n",
      "Your balance is: 79.0\n"
     ]
    }
   ],
   "metadata": {}
  },
  {
   "cell_type": "code",
   "execution_count": 111,
   "source": [
    "Bob.exit_the_casino()"
   ],
   "outputs": [
    {
     "output_type": "stream",
     "name": "stdout",
     "text": [
      "Thanks for coming to the 'Games of Chance' casino! Here's your record\n",
      "For Heads or Tails: you won 1 games and lost 0, (100 percent of games)\n",
      "For Slot Machine: you won 0 games and lost 1, (100 percent of games)\n",
      "For Blackjack: you won 0 games and lost 1, (100 percent of games)\n",
      "For Roulette: you won 0 games and lost 1, (100 percent of games)\n",
      "For Baccarat: you won 1 games and lost 0, (100 percent of games)\n",
      "---------------------\n",
      "You lost 21 chips\n"
     ]
    }
   ],
   "metadata": {
    "scrolled": false
   }
  },
  {
   "cell_type": "markdown",
   "source": [
    "In the end Bob didn't get particularly lucky and exited the casino with 20 dollars less than he started. Was this result expected or not? Let's simulate these events 500 times and let's see."
   ],
   "metadata": {}
  },
  {
   "cell_type": "code",
   "execution_count": 112,
   "source": [
    "%%capture \r\n",
    "# Doesn't show the print statements inside out of the loop\r\n",
    "\r\n",
    "total_money = []\r\n",
    "\r\n",
    "for i in range(500):\r\n",
    "    random.seed(i)\r\n",
    "    Bob = Casino()\r\n",
    "    Bob.heads_or_tails(20, prediction=\"Heads\", autoplay=True)\r\n",
    "    Bob.slot_machine(20)\r\n",
    "    Bob.blackjack(20, autoplay=True)\r\n",
    "    Bob.roulette(20, odd_or_even=\"Odd\", manque_or_passe=False, red_black_green=False, numbers=False)\r\n",
    "    Bob.baccarat(20, player_or_better=\"Player\")\r\n",
    "    total_money.append(Bob.balance())"
   ],
   "outputs": [],
   "metadata": {
    "scrolled": true
   }
  },
  {
   "cell_type": "code",
   "execution_count": 113,
   "source": [
    "win_percentage = (len([i for i in total_money if i>100])/len(total_money))*100\r\n",
    "mean = np.mean(total_money)\r\n",
    "median = np.median(total_money)\r\n",
    "mode = scipy.stats.mode(total_money)[0][0]\r\n",
    "skewness = scipy.stats.skew(total_money)\r\n",
    "total_money_lost = sum([i-100 for i in total_money])\r\n",
    "min_result_times = total_money.count(0)\r\n",
    "max_result = max(total_money)\r\n",
    "\r\n",
    "sns.histplot(data=total_money, bins=20)\r\n",
    "\r\n",
    "mode_plt = plt.axvline(mode, color='yellow', linestyle=\"dashed\")\r\n",
    "median_plt = plt.axvline(median, color='green', linestyle=\"dashed\")\r\n",
    "mean_plt = plt.axvline(mean, color='red', linestyle=\"dashed\")\r\n",
    "\r\n",
    "plt.legend([mean_plt, median_plt, mode_plt], [\"mean\", \"median\", \"mode\"])\r\n",
    "plt.show()\r\n",
    "\r\n",
    "print(\"A person entering the casino and playing every game has a chance to go positive equal to \" + str(round(win_percentage)) + \"%\")\r\n",
    "print(\"The average balance after playing is \" + str(mean))\r\n",
    "print(\"The median balance after playing is \" + str(median))\r\n",
    "print(\"The most common balance after playing is \" + str(mode))\r\n",
    "print(\"The skewness of the curve is \" + str(round(skewness, 2)) + \" (right-skewed)\")\r\n",
    "print(\"In the 1000 loops the total money lost is \" + str(total_money_lost))\r\n",
    "print(\"A person lost every chip while playing these games \" + str(round((min_result_times/500)*100)) + \"% of the times\")\r\n",
    "print(\"The best payout in these 500 simulations was equal to \" + str(max_result))\r\n"
   ],
   "outputs": [
    {
     "output_type": "display_data",
     "data": {
      "image/png": "[encoded data removed]",
      "text/plain": [
       "<Figure size 432x288 with 1 Axes>"
      ]
     },
     "metadata": {
      "needs_background": "light"
     }
    },
    {
     "output_type": "stream",
     "name": "stdout",
     "text": [
      "A person entering the casino and playing every game has a chance to go positive equal to 44%\n",
      "The average balance after playing is 90.802\n",
      "The median balance after playing is 89.0\n",
      "The most common balance after playing is 80.0\n",
      "The skewness of the curve is 0.04 (right-skewed)\n",
      "In the 1000 loops the total money lost is -4599.0\n",
      "A person lost every chip while playing these games 3% of the times\n",
      "The best payout in these 500 simulations was equal to 205.0\n"
     ]
    }
   ],
   "metadata": {}
  },
  {
   "cell_type": "markdown",
   "source": [
    "Since we stored the seed of every run of the loop we can see how the run of the lucky player went."
   ],
   "metadata": {}
  },
  {
   "cell_type": "code",
   "execution_count": 114,
   "source": [
    "random.seed(total_money.index(max_result))\r\n",
    "Bob = Casino()\r\n",
    "Bob.heads_or_tails(20, prediction=\"Heads\", autoplay=True)\r\n",
    "Bob.slot_machine(20)\r\n",
    "Bob.blackjack(20, autoplay=True)\r\n",
    "Bob.roulette(20, odd_or_even=\"Odd\")\r\n",
    "Bob.baccarat(20, player_or_better=\"Player\")\r\n",
    "\r\n",
    "Bob.exit_the_casino()"
   ],
   "outputs": [
    {
     "output_type": "stream",
     "name": "stdout",
     "text": [
      "Welcome to the 'Games of Chance' casino! you have 100 chips you can bet. Good Luck!\n",
      "-> Playing Heads or Tails...\n",
      "You've bet on: Heads\n",
      "----------------------\n",
      "The result is: Heads\n",
      "You win!\n",
      "Do you want to double or nothing?\n",
      "No\n",
      "Your balance is: 120\n",
      "-> Playing Slot Machines...\n",
      "------------------------\n",
      "LEMON    7        LEMON\n",
      "------------------------\n",
      "7        PEAR     7\n",
      "------------------------\n",
      "LEMON    PEACH    7\n",
      "------------------------\n",
      "DOUBLE LEMON!\n",
      "DOUBLE 7!!\n",
      "- You won!\n",
      "Your balance is: 165.0\n",
      "-> Playing Blackjack...\n",
      "Your cards: Q 10 (Total = 20)\n",
      "Banker's card: J\n",
      "Banker picked 5 (Total = 15)\n",
      "Banker picked J (Total = 25)\n",
      "- You won!\n",
      "Your balance is: 185.0\n",
      "-> Playing Roulette...\n",
      "You've bet on:\n",
      "Odd\n",
      "The number was: 29 (Odd, Passe, Black)\n",
      "- You won!\n",
      "Your balance is: 205.0\n",
      "-> Playing Baccarat...\n",
      "Player's cards: 5 J (Total = 5)\n",
      "Banker's cards: Q K (Total = 0)\n",
      "Player draws: 7 (Total = 2)\n",
      "Banker draws: 2 (Total = 2)\n",
      "- It's a tie ! -\n",
      "Your balance is: 205.0\n",
      "Thanks for coming to the 'Games of Chance' casino! Here's your record\n",
      "For Heads or Tails: you won 1 games and lost 0, (100 percent of games)\n",
      "For Slot Machine: you won 1 games and lost 0, (100 percent of games)\n",
      "For Blackjack: you won 1 games and lost 0, (100 percent of games)\n",
      "For Roulette: you won 1 games and lost 0, (100 percent of games)\n",
      "For Baccarat: you won 0 games and lost 0, (100 percent of games)\n",
      "---------------------\n",
      "You gained 105 chips\n"
     ]
    }
   ],
   "metadata": {}
  },
  {
   "cell_type": "markdown",
   "source": [
    "A successful double or nothing and a blackjack helped the lucky player go through the casino without losing a single time."
   ],
   "metadata": {}
  },
  {
   "cell_type": "markdown",
   "source": [
    "We looked at how a typical night at the casino playing every game will typically look, but the sample size (500) could be  higher, we will be focusing on that later. Now let's look at the statistics of winning for every singular game."
   ],
   "metadata": {}
  },
  {
   "cell_type": "code",
   "execution_count": 115,
   "source": [
    "%%capture\r\n",
    "                # Partial is used to store the functions and their parameters before being called in the loops\r\n",
    "games_to_play = [[partial(Bob.heads_or_tails, betted_money=20, prediction=\"Heads\", autoplay=True), \"heads or tails\"], \r\n",
    "                 [partial(Bob.slot_machine, betted_money=20), \"slot machines\"],\r\n",
    "                 [partial(Bob.blackjack, betted_money=20, autoplay=True), \"blackjack\"],\r\n",
    "                 [partial(Bob.roulette, betted_money=20, red_black_green=\"Red\"), \"roulettes betting on red/black\"],\r\n",
    "                 [partial(Bob.roulette, betted_money=20, numbers=[1, 2, 3, 4, 5, 6]), \"roulettes betting on numbers\"],\r\n",
    "                 [partial(Bob.baccarat, betted_money=20, player_or_better=\"Player\"), \"baccarat as a player\"],\r\n",
    "                 [partial(Bob.baccarat, betted_money=20, player_or_better=\"Better\", x_win=\"Banker\"), \"baccarat betting on a banker's win\"]]\r\n",
    "\r\n",
    "all_total_money = []\r\n",
    "for game in games_to_play: # Doing it every time\r\n",
    "    total_money = []\r\n",
    "    for i in range(1000, 5000, 5): # Looping 1000 times (but with different seeds as last time)\r\n",
    "        Bob.set_money(100)\r\n",
    "        for j in range(5):# Playing 5 times\r\n",
    "            random.seed(i+j)\r\n",
    "            game[0]()\r\n",
    "        print(Bob.balance())\r\n",
    "        print(Bob.exit_the_casino())\r\n",
    "        total_money.append(Bob.balance())\r\n",
    "    all_total_money.append(total_money)"
   ],
   "outputs": [
    {
     "output_type": "error",
     "ename": "AttributeError",
     "evalue": "'Casino' object has no attribute 'set_money'",
     "traceback": [
      "\u001b[1;31m---------------------------------------------------------------------------\u001b[0m",
      "\u001b[1;31mAttributeError\u001b[0m                            Traceback (most recent call last)",
      "\u001b[1;32m<ipython-input-115-5c178ade6f4c>\u001b[0m in \u001b[0;36m<module>\u001b[1;34m\u001b[0m\n\u001b[0;32m     12\u001b[0m     \u001b[0mtotal_money\u001b[0m \u001b[1;33m=\u001b[0m \u001b[1;33m[\u001b[0m\u001b[1;33m]\u001b[0m\u001b[1;33m\u001b[0m\u001b[1;33m\u001b[0m\u001b[0m\n\u001b[0;32m     13\u001b[0m     \u001b[1;32mfor\u001b[0m \u001b[0mi\u001b[0m \u001b[1;32min\u001b[0m \u001b[0mrange\u001b[0m\u001b[1;33m(\u001b[0m\u001b[1;36m1000\u001b[0m\u001b[1;33m,\u001b[0m \u001b[1;36m5000\u001b[0m\u001b[1;33m,\u001b[0m \u001b[1;36m5\u001b[0m\u001b[1;33m)\u001b[0m\u001b[1;33m:\u001b[0m \u001b[1;31m# Looping 1000 times (but with different seeds as last time)\u001b[0m\u001b[1;33m\u001b[0m\u001b[1;33m\u001b[0m\u001b[0m\n\u001b[1;32m---> 14\u001b[1;33m         \u001b[0mBob\u001b[0m\u001b[1;33m.\u001b[0m\u001b[0mset_money\u001b[0m\u001b[1;33m(\u001b[0m\u001b[1;33m)\u001b[0m\u001b[1;33m\u001b[0m\u001b[1;33m\u001b[0m\u001b[0m\n\u001b[0m\u001b[0;32m     15\u001b[0m         \u001b[1;32mfor\u001b[0m \u001b[0mj\u001b[0m \u001b[1;32min\u001b[0m \u001b[0mrange\u001b[0m\u001b[1;33m(\u001b[0m\u001b[1;36m5\u001b[0m\u001b[1;33m)\u001b[0m\u001b[1;33m:\u001b[0m\u001b[1;31m# Playing 5 times\u001b[0m\u001b[1;33m\u001b[0m\u001b[1;33m\u001b[0m\u001b[0m\n\u001b[0;32m     16\u001b[0m             \u001b[0mrandom\u001b[0m\u001b[1;33m.\u001b[0m\u001b[0mseed\u001b[0m\u001b[1;33m(\u001b[0m\u001b[0mi\u001b[0m\u001b[1;33m+\u001b[0m\u001b[0mj\u001b[0m\u001b[1;33m)\u001b[0m\u001b[1;33m\u001b[0m\u001b[1;33m\u001b[0m\u001b[0m\n",
      "\u001b[1;31mAttributeError\u001b[0m: 'Casino' object has no attribute 'set_money'"
     ]
    }
   ],
   "metadata": {}
  },
  {
   "cell_type": "code",
   "execution_count": null,
   "source": [
    "total_results = []\r\n",
    "for i in range(len(games_to_play)):\r\n",
    "    total_money = all_total_money[i]\r\n",
    "    \r\n",
    "    win_percentage = (len([j for j in total_money if j>100])/len(total_money))*100\r\n",
    "    mean = np.mean(total_money)\r\n",
    "    median = np.median(total_money)\r\n",
    "    mode = scipy.stats.mode(total_money)[0][0]\r\n",
    "    skewness = scipy.stats.skew(total_money)\r\n",
    "    skewness_type = \"\"\r\n",
    "    if skewness < -0.1:\r\n",
    "        skewness_type = \"left-skewed\"\r\n",
    "    elif skewness > 0.1:\r\n",
    "        skewness_type = \"right-skewed\"\r\n",
    "    else:\r\n",
    "        skewness_type = \"no skew\"\r\n",
    "    total_money_lost = sum([i-100 for i in total_money])\r\n",
    "    min_result_times = total_money.count(0)\r\n",
    "    max_result = max(total_money)\r\n",
    "\r\n",
    "    total_results.append([games_to_play[i][1], win_percentage, mean, median, mode, skewness, total_money_lost, min_result_times, max_result])\r\n",
    "\r\n",
    "    sns.histplot(data=total_money, bins=20)\r\n",
    "\r\n",
    "    mode_plt = plt.axvline(mode, color='yellow', linestyle=\"dashed\")\r\n",
    "    median_plt = plt.axvline(median, color='green', linestyle=\"dashed\")\r\n",
    "    mean_plt = plt.axvline(mean, color='red', linestyle=\"dashed\")\r\n",
    "    plt.title(games_to_play[i][1].title())\r\n",
    "    plt.legend([mean_plt, median_plt, mode_plt], [\"mean\", \"median\", \"mode\"])\r\n",
    "    plt.show()\r\n",
    "\r\n",
    "    print(\"A person entering the casino and playing \" + games_to_play[i][1] + \" every game has a chance to go positive equal to \" + str(round(win_percentage)) + \"%\")\r\n",
    "    print(\"The average balance after playing is \" + str(mean))\r\n",
    "    print(\"The median balance after playing is \" + str(median))\r\n",
    "    print(\"The most common balance after playing is \" + str(mode))\r\n",
    "    print(\"The skewness of the curve is \" + str(round(skewness, 2)) + \" (\" + skewness_type + \")\")\r\n",
    "    print(\"In the 1000 loops the total money lost is \" + str(total_money_lost))\r\n",
    "    print(\"A person lost every chip while playing these games \" + str(round((min_result_times/1000)*100)) + \"% of the times\")\r\n",
    "    print(\"The best payout in these 1000 simulations was equal to \" + str(max_result))"
   ],
   "outputs": [
    {
     "output_type": "display_data",
     "data": {
      "image/png": "[encoded data removed]",
      "text/plain": [
       "<Figure size 432x288 with 1 Axes>"
      ]
     },
     "metadata": {
      "needs_background": "light"
     }
    },
    {
     "output_type": "stream",
     "name": "stdout",
     "text": [
      "A person entering the casino and playing heads or tails every game has a chance to go positive equal to 0%\n",
      "The average balance after playing is 100.0\n",
      "The median balance after playing is 100.0\n",
      "The most common balance after playing is 100\n",
      "The skewness of the curve is 0.0 (no skew)\n",
      "In the 1000 loops the total money lost is 0\n",
      "A person lost every chip while playing these games 0% of the times\n",
      "The best payout in these 1000 simulations was equal to 100\n"
     ]
    },
    {
     "output_type": "display_data",
     "data": {
      "image/png": "[encoded data removed]",
      "text/plain": [
       "<Figure size 432x288 with 1 Axes>"
      ]
     },
     "metadata": {
      "needs_background": "light"
     }
    },
    {
     "output_type": "stream",
     "name": "stdout",
     "text": [
      "A person entering the casino and playing slot machines every game has a chance to go positive equal to 0%\n",
      "The average balance after playing is 100.0\n",
      "The median balance after playing is 100.0\n",
      "The most common balance after playing is 100\n",
      "The skewness of the curve is 0.0 (no skew)\n",
      "In the 1000 loops the total money lost is 0\n",
      "A person lost every chip while playing these games 0% of the times\n",
      "The best payout in these 1000 simulations was equal to 100\n"
     ]
    },
    {
     "output_type": "display_data",
     "data": {
      "image/png": "[encoded data removed]",
      "text/plain": [
       "<Figure size 432x288 with 1 Axes>"
      ]
     },
     "metadata": {
      "needs_background": "light"
     }
    },
    {
     "output_type": "stream",
     "name": "stdout",
     "text": [
      "A person entering the casino and playing blackjack every game has a chance to go positive equal to 0%\n",
      "The average balance after playing is 100.0\n",
      "The median balance after playing is 100.0\n",
      "The most common balance after playing is 100\n",
      "The skewness of the curve is 0.0 (no skew)\n",
      "In the 1000 loops the total money lost is 0\n",
      "A person lost every chip while playing these games 0% of the times\n",
      "The best payout in these 1000 simulations was equal to 100\n"
     ]
    },
    {
     "output_type": "display_data",
     "data": {
      "image/png": "[encoded data removed]",
      "text/plain": [
       "<Figure size 432x288 with 1 Axes>"
      ]
     },
     "metadata": {
      "needs_background": "light"
     }
    },
    {
     "output_type": "stream",
     "name": "stdout",
     "text": [
      "A person entering the casino and playing roulettes betting on red/black every game has a chance to go positive equal to 0%\n",
      "The average balance after playing is 100.0\n",
      "The median balance after playing is 100.0\n",
      "The most common balance after playing is 100\n",
      "The skewness of the curve is 0.0 (no skew)\n",
      "In the 1000 loops the total money lost is 0\n",
      "A person lost every chip while playing these games 0% of the times\n",
      "The best payout in these 1000 simulations was equal to 100\n"
     ]
    },
    {
     "output_type": "display_data",
     "data": {
      "image/png": "[encoded data removed]",
      "text/plain": [
       "<Figure size 432x288 with 1 Axes>"
      ]
     },
     "metadata": {
      "needs_background": "light"
     }
    },
    {
     "output_type": "stream",
     "name": "stdout",
     "text": [
      "A person entering the casino and playing roulettes betting on numbers every game has a chance to go positive equal to 0%\n",
      "The average balance after playing is 100.0\n",
      "The median balance after playing is 100.0\n",
      "The most common balance after playing is 100\n",
      "The skewness of the curve is 0.0 (no skew)\n",
      "In the 1000 loops the total money lost is 0\n",
      "A person lost every chip while playing these games 0% of the times\n",
      "The best payout in these 1000 simulations was equal to 100\n"
     ]
    },
    {
     "output_type": "display_data",
     "data": {
      "image/png": "[encoded data removed]",
      "text/plain": [
       "<Figure size 432x288 with 1 Axes>"
      ]
     },
     "metadata": {
      "needs_background": "light"
     }
    },
    {
     "output_type": "stream",
     "name": "stdout",
     "text": [
      "A person entering the casino and playing baccarat as a player every game has a chance to go positive equal to 0%\n",
      "The average balance after playing is 100.0\n",
      "The median balance after playing is 100.0\n",
      "The most common balance after playing is 100\n",
      "The skewness of the curve is 0.0 (no skew)\n",
      "In the 1000 loops the total money lost is 0\n",
      "A person lost every chip while playing these games 0% of the times\n",
      "The best payout in these 1000 simulations was equal to 100\n"
     ]
    },
    {
     "output_type": "display_data",
     "data": {
      "image/png": "[encoded data removed]",
      "text/plain": [
       "<Figure size 432x288 with 1 Axes>"
      ]
     },
     "metadata": {
      "needs_background": "light"
     }
    },
    {
     "output_type": "stream",
     "name": "stdout",
     "text": [
      "A person entering the casino and playing baccarat betting on a banker's win every game has a chance to go positive equal to 0%\n",
      "The average balance after playing is 100.0\n",
      "The median balance after playing is 100.0\n",
      "The most common balance after playing is 100\n",
      "The skewness of the curve is 0.0 (no skew)\n",
      "In the 1000 loops the total money lost is 0\n",
      "A person lost every chip while playing these games 0% of the times\n",
      "The best payout in these 1000 simulations was equal to 100\n"
     ]
    }
   ],
   "metadata": {
    "scrolled": false
   }
  },
  {
   "cell_type": "markdown",
   "source": [
    "After seeing a statistical analysis of every casino game, let's see the broader, more general results.\n",
    "Let's start by creating a dataset."
   ],
   "metadata": {}
  },
  {
   "cell_type": "code",
   "execution_count": null,
   "source": [
    "games_data = pd.DataFrame(total_results, columns=[\"Name\", \"Win percentage\", \"Mean\", \"Median\", \r\n",
    "                                                  \"Mode\", \"Skewness\", \"Total money lost\", \"Number of bankrupts\", \"Best result\"])\r\n",
    "\r\n",
    "print(games_data)\r\n",
    "print(\"----------------------------------\")\r\n",
    "print(games_data.mean())"
   ],
   "outputs": [
    {
     "output_type": "stream",
     "name": "stdout",
     "text": [
      "                                 Name  Win percentage   Mean  Median  Mode  \\\n",
      "0                      heads or tails             0.0  100.0   100.0   100   \n",
      "1                       slot machines             0.0  100.0   100.0   100   \n",
      "2                           blackjack             0.0  100.0   100.0   100   \n",
      "3      roulettes betting on red/black             0.0  100.0   100.0   100   \n",
      "4        roulettes betting on numbers             0.0  100.0   100.0   100   \n",
      "5                baccarat as a player             0.0  100.0   100.0   100   \n",
      "6  baccarat betting on a banker's win             0.0  100.0   100.0   100   \n",
      "\n",
      "   Skewness  Total money lost  Number of bankrupts  Best result  \n",
      "0       0.0                 0                    0          100  \n",
      "1       0.0                 0                    0          100  \n",
      "2       0.0                 0                    0          100  \n",
      "3       0.0                 0                    0          100  \n",
      "4       0.0                 0                    0          100  \n",
      "5       0.0                 0                    0          100  \n",
      "6       0.0                 0                    0          100  \n",
      "----------------------------------\n",
      "Win percentage           0.0\n",
      "Mean                   100.0\n",
      "Median                 100.0\n",
      "Mode                   100.0\n",
      "Skewness                 0.0\n",
      "Total money lost         0.0\n",
      "Number of bankrupts      0.0\n",
      "Best result            100.0\n",
      "dtype: float64\n"
     ]
    }
   ],
   "metadata": {}
  },
  {
   "cell_type": "markdown",
   "source": [
    "At the \"Games of Chance\" casino, on average the player/better wins a little more than a third of the time, he usually loses about 1/10 of the original amount (much more if we glance at the median); all games but the fifth one are generally right-skewed towards lesser values, as it is shown in the total money lost column after playing 1000 times; About 1/8th of the times the player loses all its money playing five times a certain game. "
   ],
   "metadata": {}
  },
  {
   "cell_type": "markdown",
   "source": [
    "A supplementary inquiry I wanted to test with these functions was how long could a player last before going eventually bankrupt?\n",
    "\n",
    "I'll make the number of initial chips higher (from 100 to 200) and additionally make 30 runs per game to find their average to avoid early losers."
   ],
   "metadata": {}
  },
  {
   "cell_type": "code",
   "execution_count": null,
   "source": [
    "%%capture\r\n",
    "random.seed(123456)\r\n",
    "\r\n",
    "all_total_money_per_gen = [] # Will contain the average run of every game\r\n",
    "for game in games_to_play:\r\n",
    "    \r\n",
    "    total_money_per_gen = [] # Will contain all the runs for a single game\r\n",
    "    for i in range(30):\r\n",
    "        \r\n",
    "        total_money = [] # Will contain a single run\r\n",
    "        Bob = Casino(200)\r\n",
    "        \r\n",
    "        while Bob.balance() >= 20 and len(total_money) <= 500: # While not bankrupt\r\n",
    "            game[0]()\r\n",
    "            total_money.append(Bob.balance())\r\n",
    "            \r\n",
    "        if len(total_money) < 500: # If the run goes bankrupt before reaching 500 tries fill the remaining with 0s\r\n",
    "            remainder = 500-len(total_money)\r\n",
    "            for i in range(0, remainder):\r\n",
    "                total_money.append(0)\r\n",
    "        total_money_per_gen.append(total_money)\r\n",
    "    \r\n",
    "    \r\n",
    "    avg_total_money_per_gen = [] # Finding average of the 30 runs\r\n",
    "    for z in range(500):\r\n",
    "        mean = np.mean([i[z] for i in total_money_per_gen])\r\n",
    "        avg_total_money_per_gen.append(round(mean, 2))\r\n",
    "\r\n",
    "    all_total_money_per_gen.append(avg_total_money_per_gen)"
   ],
   "outputs": [],
   "metadata": {}
  },
  {
   "cell_type": "code",
   "execution_count": null,
   "source": [
    "texts = []\r\n",
    "for i in range(len(all_total_money_per_gen)):\r\n",
    "    if 0 in all_total_money_per_gen[i]:\r\n",
    "        x = all_total_money_per_gen[i].index(0)\r\n",
    "        y = 0\r\n",
    "    else:\r\n",
    "        x = 500\r\n",
    "        y = all_total_money_per_gen[i][-1]\r\n",
    "    \r\n",
    "    texts.append(plt.text(x, y, str(x)+\" game\",  bbox=dict(boxstyle=\"square\", facecolor=\"None\")))\r\n",
    "    sns.lineplot(data=all_total_money_per_gen[i])\r\n",
    "\r\n",
    "adjust_text(texts)\r\n",
    "plt.gcf().set_size_inches(15, 7.5)\r\n",
    "plt.legend([games_to_play[i][1] for i in range(len(games_to_play))])\r\n",
    "plt.show()"
   ],
   "outputs": [
    {
     "output_type": "display_data",
     "data": {
      "image/png": "[encoded data removed]",
      "text/plain": [
       "<Figure size 1080x540 with 1 Axes>"
      ]
     },
     "metadata": {
      "needs_background": "light"
     }
    }
   ],
   "metadata": {}
  },
  {
   "cell_type": "markdown",
   "source": [
    "Blackjack was the first game the player went bankrupt in less than 60 games played, shortly after the slot machines and baccarat brought the chip count to 0, the greed in doubling or nothing in heads or tails caused the player's downfall; only the roulette bets didn't make the player go bankrupt even tho slowly but surely in the near future are going to ruin the player's balance."
   ],
   "metadata": {}
  },
  {
   "cell_type": "markdown",
   "source": [
    "I think that after the last query I'll end this stat report about gambling and chances.\n",
    "\n",
    "In conclusion we can easily extrapolate that gambling in these games will always, ALWAYS, favor the casino and lead to ther inevitable bankrupcy of the player.\n",
    "\n",
    "Don't ever enter in a gambling addiction and happy coding!"
   ],
   "metadata": {}
  },
  {
   "cell_type": "code",
   "execution_count": null,
   "source": [],
   "outputs": [],
   "metadata": {}
  }
 ],
 "metadata": {
  "interpreter": {
   "hash": "0163dbdb18d2d091ddfd40aa5ed5abe536d412dfc151b8e2bb8114deb55724b9"
  },
  "kernelspec": {
   "name": "python3",
   "display_name": "Python 3.8.5 64-bit ('base': conda)"
  },
  "language_info": {
   "codemirror_mode": {
    "name": "ipython",
    "version": 3
   },
   "file_extension": ".py",
   "mimetype": "text/x-python",
   "name": "python",
   "nbconvert_exporter": "python",
   "pygments_lexer": "ipython3",
   "version": "3.8.5"
  }
 },
 "nbformat": 4,
 "nbformat_minor": 4
}